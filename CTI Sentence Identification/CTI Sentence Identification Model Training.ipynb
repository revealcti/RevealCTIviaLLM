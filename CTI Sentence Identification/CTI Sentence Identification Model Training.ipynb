{
 "cells": [
  {
   "cell_type": "markdown",
   "id": "enclosed-addition",
   "metadata": {},
   "source": [
    "<div align='left' ><font size='70'>Setup</font></div>"
   ]
  },
  {
   "cell_type": "code",
   "execution_count": null,
   "id": "alive-launch",
   "metadata": {
    "ExecuteTime": {
     "end_time": "2021-06-21T02:13:43.329953Z",
     "start_time": "2021-06-21T02:13:43.324595Z"
    }
   },
   "outputs": [],
   "source": [
    "insert_learning_rate = 5e-5\n",
    "insert_my_num_train_epochs = 20\n",
    "my_train_batch_size = 64\n",
    "my_weight_decay = 0.01\n",
    "KLIST = [0, 1, 2, 3, 4]\n",
    "list_model1and2 = [[\"roberta\", \"./drmodel6withmini5/best_model\"], ]\n",
    "pkl_file_list = ['sentence.pkl', 'big_label_list.pkl']\n",
    "MultilLabel_MODE = True\n",
    "\n",
    "from baseCode import jie, perfermance, send2me, AListinB  # type: ignore\n",
    "from simpletransformers.classification import ClassificationModel  # type: ignore\n",
    "import pandas as pd\n",
    "import glob\n",
    "import numpy as np\n",
    "from sklearn import preprocessing\n",
    "import pickle, itertools, copy\n",
    "import seaborn as sns  # type: ignore\n",
    "from numpy.random import randn\n",
    "import matplotlib as mpl\n",
    "import matplotlib.pyplot as plt\n",
    "from scipy import stats\n",
    "import matplotlib\n",
    "import torch  # type: ignore\n",
    "from sklearn.metrics import classification_report, confusion_matrix, f1_score, accuracy_score, plot_confusion_matrix\n",
    "from simpletransformers.classification import ClassificationModel, ClassificationArgs,\n",
    "    MultiLabelClassificationModel  # type: ignore\n",
    "from simpletransformers.model import TransformerModel  # type: ignore\n",
    "from collections import Counter\n",
    "import smtplib\n",
    "from email.mime.text import MIMEText\n",
    "from email.header import Header\n",
    "import os\n",
    "\n",
    "os.chdir(r\"/home/anaconda3/data/V10\")\n",
    "\n",
    "pkl_file = open(pkl_file_list[0], 'rb')\n",
    "train_test_5fold_list = pickle.load(pkl_file)\n",
    "pkl_file.close()\n",
    "pkl_file = open(pkl_file_list[1], 'rb')\n",
    "big_label_list = pickle.load(pkl_file)\n",
    "pkl_file.close()\n",
    "print(big_label_list)"
   ]
  },
  {
   "cell_type": "markdown",
   "id": "amber-manitoba",
   "metadata": {},
   "source": [
    "<div align='left' ><font size='70'>Model Training</font></div>"
   ]
  },
  {
   "cell_type": "code",
   "execution_count": null,
   "id": "under-passport",
   "metadata": {
    "ExecuteTime": {
     "end_time": "2021-06-21T02:25:13.712264Z",
     "start_time": "2021-06-21T02:24:55.498666Z"
    }
   },
   "outputs": [],
   "source": [
    "for single_model1and2 in list_model1and2:\n",
    "    model1=single_model1and2[0]\n",
    "    model2=single_model1and2[1]\n",
    "    print('🟥model',model1,'♦️topic',model2)\n",
    "    for selected_k in KLIST:\n",
    "        index_of_kfold=selected_k\n",
    "        print(\"🎉kfold working on:\",index_of_kfold)\n",
    "        train_df=train_test_5fold_list[index_of_kfold][0]\n",
    "        eval_df=train_test_5fold_list[index_of_kfold][1]\n",
    "        i_X_train_epochs=1\n",
    "        My_num_labels= int(len(big_label_list))\n",
    "        print('label number:',My_num_labels)\n",
    "        my_best_model_dir='clfmodel/'+str(selected_k)+'/best_model' \n",
    "        myargs={'fp16': False,\\\n",
    "                'best_model_dir':my_best_model_dir,\\\n",
    "                'learning_rate': insert_learning_rate,\\\n",
    "                'max_seq_length': 300,\\\n",
    "                'num_train_epochs':insert_my_num_train_epochs, \\\n",
    "                'train_batch_size': my_train_batch_size,\\\n",
    "                'reprocess_input_data': True,\\\n",
    "                'save_eval_checkpoints': False,\\\n",
    "                'save_model_every_epoch': False,\\\n",
    "                'save_optimizer_and_scheduler': True,\\\n",
    "                'overwrite_output_dir': True,\\\n",
    "                'no_cache': True,\\\n",
    "                'no_save': False,\\\n",
    "                'silent': False,\\\n",
    "                'evaluate_during_training':True,\\\n",
    "                'evaluate_during_training_steps':100,\\\n",
    "                'evaluate_during_training_verbose':True,\\\n",
    "                \"evaluate_during_training_silent\":True,\\\n",
    "                'n_gpu':2,\\\n",
    "                \"wandb_project\": \"simpletransformers\",\\\n",
    "                \"wandb_kwargs\": {\"name\": \"paper best hyperparameter\"},\\\n",
    "                \"weight_decay\":my_weight_decay,\\\n",
    "                \"warmup_steps\":78,\\\n",
    "                \"scheduler\": \"linear_schedule_with_warmup\",\n",
    "                }\n",
    "        if MultilLabel_MODE==True:\n",
    "            model=MultiLabelClassificationModel(model1, model2,num_labels=int(My_num_labels),args=myargs,)\n",
    "        #if MultilLabel_MODE==False:\n",
    "            #model=ClassificationModel(model1, model2, num_labels=int(My_num_labels+1),#args=myargs)\n",
    "        model.train_model(train_df,eval_df=eval_df)"
   ]
  },
  {
   "cell_type": "code",
   "execution_count": null,
   "id": "professional-group",
   "metadata": {
    "collapsed": false,
    "jupyter": {
     "outputs_hidden": false
    }
   },
   "outputs": [],
   "source": []
  },
  {
   "cell_type": "markdown",
   "id": "lightweight-wells",
   "metadata": {},
   "source": [
    "<div align='left' ><font size='70'>Evaluation</font></div>"
   ]
  },
  {
   "cell_type": "code",
   "execution_count": null,
   "id": "minus-aquarium",
   "metadata": {},
   "outputs": [],
   "source": [
    "KLIST=[0,1,2,3,4]\n",
    "'''\n",
    "pkl_file_list=['merged_train_test_5fold_list.pkl','merged_big_label_list.pkl']\n",
    "pkl_file = open(pkl_file_list[0], 'rb')\n",
    "train_test_5fold_list = pickle.load(pkl_file)\n",
    "pkl_file.close()\n",
    "'''\n",
    "import numpy as np\n",
    "from sklearn.metrics import multilabel_confusion_matrix\n",
    "y_true_list_full=[]\n",
    "y_pred_list_full=[]\n",
    "for selected_k in KLIST:\n",
    "    eval_df=train_test_5fold_list[selected_k][1]\n",
    "    my_best_model_dir='clfmodel/'+str(selected_k)+'/best_model'\n",
    "    n_model_args = {\n",
    "    \"threshold\": 0.5\n",
    "    }\n",
    "    if MultilLabel_MODE==True:\n",
    "        model=MultiLabelClassificationModel(\"roberta\", \n",
    "        my_best_model_dir,args=n_model_args,)\n",
    "    if MultilLabel_MODE==False:\n",
    "        model=ClassificationModel(\"roberta\", \n",
    "        my_best_model_dir,args=n_model_args,)\n",
    "        result, model_outputs, wrong_predictions = model.eval_model(eval_df)\n",
    "        print('：',result)\n",
    "    predictions, raw_outputs = model.predict(eval_df['text'].values.tolist())\n",
    "    y_true_list=eval_df['labels'].values.tolist()\n",
    "    y_pred_list=predictions\n",
    "    y_true_list_full.extend(y_true_list)\n",
    "    y_pred_list_full.extend(y_pred_list)\n",
    "    print(classification_report(np.array(y_true_list), np.array(y_pred_list),target_names= big_label_list))\n",
    "y_true = np.array(y_true_list_full)\n",
    "y_pred = np.array(y_pred_list_full)\n",
    "text_full=[]\n",
    "for selected_k in KLIST:\n",
    "    eval_df=train_test_5fold_list[selected_k][1]\n",
    "    text_full.extend(eval_df['text'].values.tolist())\n",
    "g=0\n",
    "t=0\n",
    "for i in range(len(y_true_list_full)):   \n",
    "    if y_pred_list_full[i]==y_true_list_full[i]:\n",
    "        #print(y_pred_list[i],y_true_list[i])\n",
    "        g=g+1\n",
    "print('acc',g/len(y_pred_list_full))\n",
    "print(classification_report(y_true, y_pred,target_names= big_label_list))"
   ]
  }
 ],
 "metadata": {
  "interpreter": {
   "hash": "aee8b7b246df8f9039afb4144a1f6fd8d2ca17a180786b69acc140d282b71a49"
  },
  "kernelspec": {
   "display_name": "Python 3 (ipykernel)",
   "language": "python",
   "name": "python3"
  },
  "language_info": {
   "codemirror_mode": {
    "name": "ipython",
    "version": 3
   },
   "file_extension": ".py",
   "mimetype": "text/x-python",
   "name": "python",
   "nbconvert_exporter": "python",
   "pygments_lexer": "ipython3",
   "version": "3.7.6"
  },
  "toc": {
   "base_numbering": 1,
   "nav_menu": {},
   "number_sections": true,
   "sideBar": true,
   "skip_h1_title": false,
   "title_cell": "Table of Contents",
   "title_sidebar": "Contents",
   "toc_cell": false,
   "toc_position": {},
   "toc_section_display": true,
   "toc_window_display": false
  },
  "varInspector": {
   "cols": {
    "lenName": 16,
    "lenType": 16,
    "lenVar": 40
   },
   "kernels_config": {
    "python": {
     "delete_cmd_postfix": "",
     "delete_cmd_prefix": "del ",
     "library": "var_list.py",
     "varRefreshCmd": "print(var_dic_list())"
    },
    "r": {
     "delete_cmd_postfix": ") ",
     "delete_cmd_prefix": "rm(",
     "library": "var_list.r",
     "varRefreshCmd": "cat(var_dic_list()) "
    }
   },
   "position": {
    "height": "311.396px",
    "left": "283.198px",
    "right": "20px",
    "top": "77px",
    "width": "466px"
   },
   "types_to_exclude": [
    "module",
    "function",
    "builtin_function_or_method",
    "instance",
    "_Feature"
   ],
   "window_display": false
  }
 },
 "nbformat": 4,
 "nbformat_minor": 5
}
